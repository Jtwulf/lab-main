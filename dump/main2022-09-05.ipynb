{
  "nbformat": 4,
  "nbformat_minor": 0,
  "metadata": {
    "colab": {
      "provenance": [],
      "authorship_tag": "ABX9TyMQzeNRD2zNCuhhsDT+EfLd",
      "include_colab_link": true
    },
    "kernelspec": {
      "name": "python3",
      "display_name": "Python 3"
    },
    "language_info": {
      "name": "python"
    }
  },
  "cells": [
    {
      "cell_type": "markdown",
      "metadata": {
        "id": "view-in-github",
        "colab_type": "text"
      },
      "source": [
        "<a href=\"https://colab.research.google.com/github/Jtwulf/kthr_lab/blob/main/main2022-09-05.ipynb\" target=\"_parent\"><img src=\"https://colab.research.google.com/assets/colab-badge.svg\" alt=\"Open In Colab\"/></a>"
      ]
    },
    {
      "cell_type": "code",
      "execution_count": 5,
      "metadata": {
        "colab": {
          "base_uri": "https://localhost:8080/"
        },
        "id": "5rS3fccaDcYx",
        "outputId": "7a4adec1-b80f-4977-b49b-42cb1530a598"
      },
      "outputs": [
        {
          "output_type": "stream",
          "name": "stdout",
          "text": [
            "Mounted at /content/drive\n"
          ]
        }
      ],
      "source": [
        "from google.colab import drive\n",
        "drive.mount('/content/drive')"
      ]
    },
    {
      "cell_type": "code",
      "source": [
        "!python --version"
      ],
      "metadata": {
        "id": "BVGEHBOqzadm",
        "outputId": "21aadcbe-a8e4-4c41-e346-a191bafe3233",
        "colab": {
          "base_uri": "https://localhost:8080/"
        }
      },
      "execution_count": 6,
      "outputs": [
        {
          "output_type": "stream",
          "name": "stdout",
          "text": [
            "Python 3.10.12\n"
          ]
        }
      ]
    },
    {
      "cell_type": "code",
      "source": [
        "# !apt install ffmpeg\n",
        "!pip install demucs\n",
        "!pip install mido"
      ],
      "metadata": {
        "colab": {
          "base_uri": "https://localhost:8080/",
          "height": 1000
        },
        "id": "v1zE8x70DiVE",
        "outputId": "5000e9ac-ec87-4556-c3b4-426c16cbeffb"
      },
      "execution_count": 7,
      "outputs": [
        {
          "output_type": "stream",
          "name": "stdout",
          "text": [
            "Collecting demucs\n",
            "  Downloading demucs-4.0.0.tar.gz (1.2 MB)\n",
            "\u001b[2K     \u001b[90m━━━━━━━━━━━━━━━━━━━━━━━━━━━━━━━━━━━━━━━━\u001b[0m \u001b[32m1.2/1.2 MB\u001b[0m \u001b[31m7.5 MB/s\u001b[0m eta \u001b[36m0:00:00\u001b[0m\n",
            "\u001b[?25h  Preparing metadata (setup.py) ... \u001b[?25l\u001b[?25hdone\n",
            "Collecting dora-search (from demucs)\n",
            "  Downloading dora_search-0.1.12.tar.gz (87 kB)\n",
            "\u001b[2K     \u001b[90m━━━━━━━━━━━━━━━━━━━━━━━━━━━━━━━━━━━━━━━━\u001b[0m \u001b[32m87.1/87.1 kB\u001b[0m \u001b[31m9.3 MB/s\u001b[0m eta \u001b[36m0:00:00\u001b[0m\n",
            "\u001b[?25h  Installing build dependencies ... \u001b[?25l\u001b[?25hdone\n",
            "  Getting requirements to build wheel ... \u001b[?25l\u001b[?25hdone\n",
            "  Preparing metadata (pyproject.toml) ... \u001b[?25l\u001b[?25hdone\n",
            "Collecting diffq>=0.2.1 (from demucs)\n",
            "  Downloading diffq-0.2.4-cp310-cp310-manylinux_2_5_x86_64.manylinux1_x86_64.manylinux_2_12_x86_64.manylinux2010_x86_64.whl (418 kB)\n",
            "\u001b[2K     \u001b[90m━━━━━━━━━━━━━━━━━━━━━━━━━━━━━━━━━━━━━━\u001b[0m \u001b[32m418.8/418.8 kB\u001b[0m \u001b[31m10.6 MB/s\u001b[0m eta \u001b[36m0:00:00\u001b[0m\n",
            "\u001b[?25hCollecting einops (from demucs)\n",
            "  Downloading einops-0.6.1-py3-none-any.whl (42 kB)\n",
            "\u001b[2K     \u001b[90m━━━━━━━━━━━━━━━━━━━━━━━━━━━━━━━━━━━━━━━━\u001b[0m \u001b[32m42.2/42.2 kB\u001b[0m \u001b[31m4.6 MB/s\u001b[0m eta \u001b[36m0:00:00\u001b[0m\n",
            "\u001b[?25hCollecting julius>=0.2.3 (from demucs)\n",
            "  Downloading julius-0.2.7.tar.gz (59 kB)\n",
            "\u001b[2K     \u001b[90m━━━━━━━━━━━━━━━━━━━━━━━━━━━━━━━━━━━━━━━━\u001b[0m \u001b[32m59.6/59.6 kB\u001b[0m \u001b[31m6.8 MB/s\u001b[0m eta \u001b[36m0:00:00\u001b[0m\n",
            "\u001b[?25h  Preparing metadata (setup.py) ... \u001b[?25l\u001b[?25hdone\n",
            "Collecting lameenc>=1.2 (from demucs)\n",
            "  Downloading lameenc-1.6.1-cp310-cp310-manylinux_2_17_x86_64.manylinux2014_x86_64.manylinux_2_24_x86_64.whl (267 kB)\n",
            "\u001b[2K     \u001b[90m━━━━━━━━━━━━━━━━━━━━━━━━━━━━━━━━━━━━━━\u001b[0m \u001b[32m267.2/267.2 kB\u001b[0m \u001b[31m11.5 MB/s\u001b[0m eta \u001b[36m0:00:00\u001b[0m\n",
            "\u001b[?25hCollecting openunmix (from demucs)\n",
            "  Downloading openunmix-1.2.1-py3-none-any.whl (46 kB)\n",
            "\u001b[2K     \u001b[90m━━━━━━━━━━━━━━━━━━━━━━━━━━━━━━━━━━━━━━━━\u001b[0m \u001b[32m46.7/46.7 kB\u001b[0m \u001b[31m4.6 MB/s\u001b[0m eta \u001b[36m0:00:00\u001b[0m\n",
            "\u001b[?25hRequirement already satisfied: pyyaml in /usr/local/lib/python3.10/dist-packages (from demucs) (6.0.1)\n",
            "Requirement already satisfied: torch>=1.8.1 in /usr/local/lib/python3.10/dist-packages (from demucs) (2.0.1+cu118)\n",
            "Requirement already satisfied: torchaudio>=0.8 in /usr/local/lib/python3.10/dist-packages (from demucs) (2.0.2+cu118)\n",
            "Requirement already satisfied: tqdm in /usr/local/lib/python3.10/dist-packages (from demucs) (4.66.1)\n",
            "Requirement already satisfied: Cython in /usr/local/lib/python3.10/dist-packages (from diffq>=0.2.1->demucs) (0.29.36)\n",
            "Requirement already satisfied: numpy in /usr/local/lib/python3.10/dist-packages (from diffq>=0.2.1->demucs) (1.23.5)\n",
            "Requirement already satisfied: filelock in /usr/local/lib/python3.10/dist-packages (from torch>=1.8.1->demucs) (3.12.2)\n",
            "Requirement already satisfied: typing-extensions in /usr/local/lib/python3.10/dist-packages (from torch>=1.8.1->demucs) (4.7.1)\n",
            "Requirement already satisfied: sympy in /usr/local/lib/python3.10/dist-packages (from torch>=1.8.1->demucs) (1.12)\n",
            "Requirement already satisfied: networkx in /usr/local/lib/python3.10/dist-packages (from torch>=1.8.1->demucs) (3.1)\n",
            "Requirement already satisfied: jinja2 in /usr/local/lib/python3.10/dist-packages (from torch>=1.8.1->demucs) (3.1.2)\n",
            "Requirement already satisfied: triton==2.0.0 in /usr/local/lib/python3.10/dist-packages (from torch>=1.8.1->demucs) (2.0.0)\n",
            "Requirement already satisfied: cmake in /usr/local/lib/python3.10/dist-packages (from triton==2.0.0->torch>=1.8.1->demucs) (3.27.2)\n",
            "Requirement already satisfied: lit in /usr/local/lib/python3.10/dist-packages (from triton==2.0.0->torch>=1.8.1->demucs) (16.0.6)\n",
            "Collecting omegaconf (from dora-search->demucs)\n",
            "  Downloading omegaconf-2.3.0-py3-none-any.whl (79 kB)\n",
            "\u001b[2K     \u001b[90m━━━━━━━━━━━━━━━━━━━━━━━━━━━━━━━━━━━━━━━━\u001b[0m \u001b[32m79.5/79.5 kB\u001b[0m \u001b[31m8.6 MB/s\u001b[0m eta \u001b[36m0:00:00\u001b[0m\n",
            "\u001b[?25hCollecting retrying (from dora-search->demucs)\n",
            "  Downloading retrying-1.3.4-py3-none-any.whl (11 kB)\n",
            "Collecting submitit (from dora-search->demucs)\n",
            "  Downloading submitit-1.4.5-py3-none-any.whl (73 kB)\n",
            "\u001b[2K     \u001b[90m━━━━━━━━━━━━━━━━━━━━━━━━━━━━━━━━━━━━━━━━\u001b[0m \u001b[32m73.1/73.1 kB\u001b[0m \u001b[31m5.8 MB/s\u001b[0m eta \u001b[36m0:00:00\u001b[0m\n",
            "\u001b[?25hCollecting treetable (from dora-search->demucs)\n",
            "  Downloading treetable-0.2.5.tar.gz (10 kB)\n",
            "  Preparing metadata (setup.py) ... \u001b[?25l\u001b[?25hdone\n",
            "Requirement already satisfied: MarkupSafe>=2.0 in /usr/local/lib/python3.10/dist-packages (from jinja2->torch>=1.8.1->demucs) (2.1.3)\n",
            "Collecting antlr4-python3-runtime==4.9.* (from omegaconf->dora-search->demucs)\n",
            "  Downloading antlr4-python3-runtime-4.9.3.tar.gz (117 kB)\n",
            "\u001b[2K     \u001b[90m━━━━━━━━━━━━━━━━━━━━━━━━━━━━━━━━━━━━━━\u001b[0m \u001b[32m117.0/117.0 kB\u001b[0m \u001b[31m11.9 MB/s\u001b[0m eta \u001b[36m0:00:00\u001b[0m\n",
            "\u001b[?25h  Preparing metadata (setup.py) ... \u001b[?25l\u001b[?25hdone\n",
            "Requirement already satisfied: six>=1.7.0 in /usr/local/lib/python3.10/dist-packages (from retrying->dora-search->demucs) (1.16.0)\n",
            "Requirement already satisfied: cloudpickle>=1.2.1 in /usr/local/lib/python3.10/dist-packages (from submitit->dora-search->demucs) (2.2.1)\n",
            "Requirement already satisfied: mpmath>=0.19 in /usr/local/lib/python3.10/dist-packages (from sympy->torch>=1.8.1->demucs) (1.3.0)\n",
            "Building wheels for collected packages: demucs, julius, dora-search, antlr4-python3-runtime, treetable\n",
            "  Building wheel for demucs (setup.py) ... \u001b[?25l\u001b[?25hdone\n",
            "  Created wheel for demucs: filename=demucs-4.0.0-py3-none-any.whl size=76501 sha256=ab5a3d740790df9e465f1238035a5cd81f719374c03522f2ebacc28a739b7d1f\n",
            "  Stored in directory: /root/.cache/pip/wheels/64/fc/2e/a8e874bba1518a336f21a94085013fba17cb86658ce18ec1c7\n",
            "  Building wheel for julius (setup.py) ... \u001b[?25l\u001b[?25hdone\n",
            "  Created wheel for julius: filename=julius-0.2.7-py3-none-any.whl size=21868 sha256=fa2db177e462ce7faea734dbc45ed25add7602b0f8970022ff0e1220ef6c84ca\n",
            "  Stored in directory: /root/.cache/pip/wheels/b9/b2/05/f883527ffcb7f2ead5438a2c23439aa0c881eaa9a4c80256f4\n",
            "  Building wheel for dora-search (pyproject.toml) ... \u001b[?25l\u001b[?25hdone\n",
            "  Created wheel for dora-search: filename=dora_search-0.1.12-py3-none-any.whl size=75090 sha256=9a728fb9a528e3b18e9f9effcd70844bf8ba17f37b65c81ff28fb99065b1a692\n",
            "  Stored in directory: /root/.cache/pip/wheels/b1/c2/c0/bea5cc405497284d584b958f293ef32c23bad42ae5e44d973c\n",
            "  Building wheel for antlr4-python3-runtime (setup.py) ... \u001b[?25l\u001b[?25hdone\n",
            "  Created wheel for antlr4-python3-runtime: filename=antlr4_python3_runtime-4.9.3-py3-none-any.whl size=144554 sha256=8ce7f660a61da7cda3aac332eeb194c44b876c60c42334f81c224eab70859300\n",
            "  Stored in directory: /root/.cache/pip/wheels/12/93/dd/1f6a127edc45659556564c5730f6d4e300888f4bca2d4c5a88\n",
            "  Building wheel for treetable (setup.py) ... \u001b[?25l\u001b[?25hdone\n",
            "  Created wheel for treetable: filename=treetable-0.2.5-py3-none-any.whl size=7333 sha256=db110fa69875f8d05ac1b1ba935db778d3e15ed8771b23fb6699e6188cbea958\n",
            "  Stored in directory: /root/.cache/pip/wheels/72/55/0e/91c3655bdb162446f8a7cd477579397544454a63ae7c599c0c\n",
            "Successfully built demucs julius dora-search antlr4-python3-runtime treetable\n",
            "Installing collected packages: lameenc, antlr4-python3-runtime, treetable, submitit, retrying, omegaconf, einops, openunmix, julius, dora-search, diffq, demucs\n",
            "Successfully installed antlr4-python3-runtime-4.9.3 demucs-4.0.0 diffq-0.2.4 dora-search-0.1.12 einops-0.6.1 julius-0.2.7 lameenc-1.6.1 omegaconf-2.3.0 openunmix-1.2.1 retrying-1.3.4 submitit-1.4.5 treetable-0.2.5\n"
          ]
        },
        {
          "output_type": "display_data",
          "data": {
            "application/vnd.colab-display-data+json": {
              "pip_warning": {
                "packages": [
                  "pydevd_plugins"
                ]
              }
            }
          },
          "metadata": {}
        },
        {
          "output_type": "stream",
          "name": "stdout",
          "text": [
            "Collecting mido\n",
            "  Downloading mido-1.3.0-py3-none-any.whl (50 kB)\n",
            "\u001b[?25l     \u001b[90m━━━━━━━━━━━━━━━━━━━━━━━━━━━━━━━━━━━━━━━━\u001b[0m \u001b[32m0.0/50.3 kB\u001b[0m \u001b[31m?\u001b[0m eta \u001b[36m-:--:--\u001b[0m\r\u001b[2K     \u001b[91m━━━━━━━━━━━━━━━━━━━━━━━━━━━━━━━━\u001b[0m\u001b[91m╸\u001b[0m\u001b[90m━━━━━━━\u001b[0m \u001b[32m41.0/50.3 kB\u001b[0m \u001b[31m1.0 MB/s\u001b[0m eta \u001b[36m0:00:01\u001b[0m\r\u001b[2K     \u001b[90m━━━━━━━━━━━━━━━━━━━━━━━━━━━━━━━━━━━━━━━\u001b[0m \u001b[32m50.3/50.3 kB\u001b[0m \u001b[31m900.6 kB/s\u001b[0m eta \u001b[36m0:00:00\u001b[0m\n",
            "\u001b[?25hRequirement already satisfied: packaging~=23.1 in /usr/local/lib/python3.10/dist-packages (from mido) (23.1)\n",
            "Installing collected packages: mido\n",
            "Successfully installed mido-1.3.0\n"
          ]
        }
      ]
    },
    {
      "cell_type": "code",
      "source": [
        "import librosa\n",
        "import librosa.display\n",
        "import matplotlib.pyplot as plt\n",
        "import numpy as np\n",
        "import IPython.display\n",
        "import io\n",
        "import os\n",
        "from pathlib import Path\n",
        "import select\n",
        "from shutil import rmtree\n",
        "import subprocess as sp\n",
        "import sys\n",
        "from typing import Dict, Tuple, Optional, IO\n",
        "from google.colab import files\n",
        "import mido\n",
        "import pprint\n",
        "from abc import ABC"
      ],
      "metadata": {
        "id": "YLoLOP9xDsYr"
      },
      "execution_count": 8,
      "outputs": []
    },
    {
      "cell_type": "code",
      "source": [
        "class Visualizer(ABC):\n",
        "    def plot(self):\n",
        "        pass"
      ],
      "metadata": {
        "id": "jnJPCtAfUBGA"
      },
      "execution_count": 9,
      "outputs": []
    },
    {
      "cell_type": "code",
      "source": [
        "class AudioSeparator:\n",
        "    def __init__(self, in_path, out_path, model=\"mdx_q\", extensions=[\"mp3\", \"wav\", \"ogg\", \"flac\"], two_stems=None, mp3=True, mp3_rate=320, float32=False, int24=False):\n",
        "        self.in_path = in_path\n",
        "        self.out_path = out_path\n",
        "        self.model = model\n",
        "        self.extensions = extensions\n",
        "        self.two_stems = two_stems\n",
        "        self.mp3 = mp3\n",
        "        self.mp3_rate = mp3_rate\n",
        "        self.float32 = float32\n",
        "        self.int24 = int24\n",
        "        self.stems = ['bass.mp3', 'drums.mp3', 'vocals.mp3', 'other.mp3']\n",
        "\n",
        "    def separate(self, inp=None, outp=None):\n",
        "        inp = inp or self.in_path\n",
        "        outp = outp or self.out_path\n",
        "\n",
        "        cmd = [\"python3\", \"-m\", \"demucs.separate\", \"-o\", str(outp), \"-n\", self.model]\n",
        "        if self.mp3:\n",
        "            cmd += [\"--mp3\", f\"--mp3-bitrate={self.mp3_rate}\"]\n",
        "        if self.float32:\n",
        "            cmd += [\"--float32\"]\n",
        "        if self.int24:\n",
        "            cmd += [\"--int24\"]\n",
        "        if self.two_stems is not None:\n",
        "            cmd += [f\"--two-stems={self.two_stems}\"]\n",
        "\n",
        "        files = [str(f) for f in self._find_files(inp)]\n",
        "        if not files:\n",
        "            print(f\"No valid audio files in {self.in_path}\")\n",
        "            return\n",
        "\n",
        "        print(\"Going to separate the files:\")\n",
        "        print('\\n'.join(files))\n",
        "        print(\"With command: \", \" \".join(cmd))\n",
        "        p = sp.Popen(cmd + files, stdout=sp.PIPE, stderr=sp.PIPE)\n",
        "        self._copy_process_streams(p)\n",
        "        p.wait()\n",
        "        if p.returncode != 0:\n",
        "            print(\"Command failed, something went wrong.\")\n",
        "\n",
        "    def _is_separated(self, outp):\n",
        "        return all(os.path.exists(Path(outp, stem)) for stem in self.stems)\n",
        "\n",
        "    def _find_files(self, in_path):\n",
        "        out = []\n",
        "        in_path = Path(in_path)\n",
        "        if in_path.is_dir():\n",
        "            for file in in_path.iterdir():\n",
        "                if file.suffix.lower().lstrip(\".\") in self.extensions:\n",
        "                    out.append(file)\n",
        "        else:\n",
        "            if in_path.suffix.lower().lstrip(\".\") in self.extensions:\n",
        "                out.append(in_path)\n",
        "        return out\n",
        "\n",
        "\n",
        "    def _copy_process_streams(self, process: sp.Popen):\n",
        "        def _raw(stream: Optional[IO[bytes]]) -> IO[bytes]:\n",
        "            assert stream is not None\n",
        "            if isinstance(stream, io.BufferedIOBase):\n",
        "                stream = stream.raw\n",
        "            return stream\n",
        "\n",
        "        p_stdout, p_stderr = _raw(process.stdout), _raw(process.stderr)\n",
        "        stream_by_fd: Dict[int, Tuple[IO[bytes], io.StringIO, IO[str]]] = {\n",
        "            p_stdout.fileno(): (p_stdout, sys.stdout),\n",
        "            p_stderr.fileno(): (p_stderr, sys.stderr),\n",
        "        }\n",
        "        fds = list(stream_by_fd.keys())\n",
        "\n",
        "        while fds:\n",
        "            ready, _, _ = select.select(fds, [], [])\n",
        "            for fd in ready:\n",
        "                p_stream, std = stream_by_fd[fd]\n",
        "                raw_buf = p_stream.read(2 ** 16)\n",
        "                if not raw_buf:\n",
        "                    fds.remove(fd)\n",
        "                    continue\n",
        "                buf = raw_buf.decode()\n",
        "                std.write(buf)\n",
        "                std.flush()\n",
        "\n",
        "    # def from_upload(self):\n",
        "    #     out_path = Path('separated')\n",
        "    #     in_path = Path('tmp_in')\n",
        "\n",
        "    #     if in_path.exists():\n",
        "    #         rmtree(in_path)\n",
        "    #     in_path.mkdir()\n",
        "\n",
        "    #     if out_path.exists():\n",
        "    #         rmtree(out_path)\n",
        "    #     out_path.mkdir()\n",
        "\n",
        "    #     uploaded = files.upload()\n",
        "    #     for name, content in uploaded.items():\n",
        "    #         (in_path / name).write_bytes(content)\n",
        "    #     self.separate(in_path, out_path)"
      ],
      "metadata": {
        "id": "gAcSdbWnD8GG"
      },
      "execution_count": 6,
      "outputs": []
    },
    {
      "cell_type": "code",
      "source": [
        "class RMSVisualizer(Visualizer):\n",
        "    def __init__(self, in_path, demucs_in_path, out_path, sr=44100, frame_length=65000, hop_length=16250, n_ignore=10):\n",
        "        self.in_path = in_path\n",
        "        self.sr = sr\n",
        "        self.frame_length = frame_length\n",
        "        self.hop_length = hop_length\n",
        "        self.n_ignore = n_ignore\n",
        "        self.demucs_in_path = demucs_in_path\n",
        "\n",
        "    def plot(self):\n",
        "        rms, times = self._compute_rms(self.in_path)\n",
        "\n",
        "        rms_data = []\n",
        "        rms_data.append(self._compute_splited_rms(self.in_path, self.demucs_in_path + \"/bass.mp3\")[0])\n",
        "        rms_data.append(self._compute_splited_rms(self.in_path, self.demucs_in_path + \"/drums.mp3\")[0])\n",
        "        rms_data.append(self._compute_splited_rms(self.in_path, self.demucs_in_path + \"/other.mp3\")[0])\n",
        "        rms_data.append(self._compute_splited_rms(self.in_path, self.demucs_in_path + \"/vocals.mp3\")[0])\n",
        "\n",
        "        labels = [\"bass\", \"drums\", \"vocals\", \"other\"]\n",
        "\n",
        "        self._plot_rms(times, rms_data, labels)\n",
        "\n",
        "    def _compute_rms(self, file):\n",
        "        y, _ = librosa.load(file, sr=self.sr, mono=True)\n",
        "        rms = librosa.feature.rms(y=y, frame_length=self.frame_length, hop_length=self.hop_length)[0]\n",
        "        rms /= np.max(rms)\n",
        "        times = np.floor(librosa.times_like(rms, hop_length=self.hop_length, sr=self.sr))\n",
        "\n",
        "        return rms, times\n",
        "\n",
        "    def _compute_splited_rms(self, file, s_file):\n",
        "        s_y, s_sr = librosa.load(s_file, sr=44100, mono=True)\n",
        "        y, _ = librosa.load(file, sr=44100, mono=True)\n",
        "        s_rms = librosa.feature.rms(y=s_y, frame_length=self.frame_length, hop_length=self.hop_length)[0]\n",
        "        rms = librosa.feature.rms(y=y, frame_length=self.frame_length, hop_length=self.hop_length)[0]\n",
        "        s_rms /= np.max(rms)\n",
        "        times = np.floor(librosa.times_like(s_rms, hop_length=self.hop_length, sr=s_sr))\n",
        "\n",
        "        return s_rms, times\n",
        "\n",
        "    def _plot_rms(self, times, rms_data, labels):\n",
        "        plt.figure(figsize=(15, 5))\n",
        "        plt.ylabel(\"RMS\")\n",
        "        plt.xlabel(\"time\")\n",
        "\n",
        "        colors = [\"blue\", \"magenta\", \"yellow\", \"green\"]\n",
        "        for rms, label, color in zip(rms_data, labels, colors):\n",
        "            plt.plot(rms, label=label, color=color ,lw=2, alpha=1)\n",
        "\n",
        "        plt.legend()\n",
        "        plt.show()\n",
        "\n",
        "    def _plot_rms_with_color(self, times, rms_data, labels):\n",
        "        plt.figure(figsize=(15, 5))\n",
        "        plt.ylabel(\"RMS\")\n",
        "        plt.xlabel(\"time\")\n",
        "\n",
        "        red_count = 0\n",
        "        for i in range(len(times)):\n",
        "            if rms_data[0][i] > 0.7:\n",
        "                red_count += 1\n",
        "                plt.vlines(i, 0, 1, color=\"red\", alpha=0.4)\n",
        "            else:\n",
        "                plt.vlines(i, 0, 1, color=\"green\", alpha=0.4)\n",
        "                if red_count == 0:\n",
        "                    plt.vlines(i, 0, 1, color=\"yellow\", alpha=0.4)\n",
        "\n",
        "        red_count_2 = 0\n",
        "        for i in range(len(times)):\n",
        "            if red_count == red_count_2:\n",
        "                plt.vlines(i, 0, 1, color=\"blue\", alpha=0.4)\n",
        "            if rms_data[0][i] > 0.7:\n",
        "                red_count_2 += 1\n",
        "\n",
        "        colors = [\"blue\", \"magenta\", \"yellow\", \"green\"]\n",
        "        for rms, label, color in zip(rms_data, labels, colors):\n",
        "            plt.plot(rms, label=label, color=color ,lw=2, alpha=1)\n",
        "\n",
        "        plt.legend()\n",
        "        plt.show()"
      ],
      "metadata": {
        "id": "3CaJVKRMOxLQ"
      },
      "execution_count": 7,
      "outputs": []
    },
    {
      "cell_type": "code",
      "source": [
        "class DrumMidiVisualizer(Visualizer):\n",
        "    def __init__(self, in_path, out_path):\n",
        "        self.in_path = in_path\n",
        "        self.out_path = out_path\n",
        "        self.drum_mapping = {\n",
        "            35: 'Acoustic Bass Drum',\n",
        "            36: 'Bass Drum 1',\n",
        "            37: 'Side Stick',\n",
        "            38: 'Acoustic Snare',\n",
        "            39: 'Hand Clap',\n",
        "            40: 'Electric Snare',\n",
        "            41: 'Low Floor Tom',\n",
        "            42: 'Closed Hi-Hat',\n",
        "            43: 'High Floor Tom',\n",
        "            44: 'Pedal Hi-Hat',\n",
        "            45: 'Low Tom',\n",
        "            46: 'Open Hi-Hat',\n",
        "            47: 'Low-Mid Tom',\n",
        "            48: 'Hi-Mid Tom',\n",
        "            49: 'Crash Cymbal 1',\n",
        "            50: 'High Tom',\n",
        "            51: 'Ride Cymbal 1',\n",
        "            52: 'Chinese Cymbal',\n",
        "            53: 'Ride Bell',\n",
        "            54: 'Tambourine',\n",
        "            55: 'Splash Cymbal',\n",
        "            56: 'Cowbell',\n",
        "            57: 'Crash Cymbal 2',\n",
        "            58: 'Vibraslap',\n",
        "            59: 'Ride Cymbal 2',\n",
        "            60: 'Hi Bongo',\n",
        "            61: 'Low Bongo',\n",
        "            62: 'Mute Hi Conga',\n",
        "            63: 'Open Hi Conga',\n",
        "            64: 'Low Conga',\n",
        "            65: 'High Timbale',\n",
        "            66: 'Low Timbale',\n",
        "            67: 'High Agogo',\n",
        "            68: 'Low Agogo',\n",
        "            69: 'Cabasa',\n",
        "            70: 'Maracas',\n",
        "            71: 'Short Whistle',\n",
        "            72: 'Long Whistle',\n",
        "            73: 'Short Guiro',\n",
        "            74: 'Long Guiro',\n",
        "            75: 'Claves',\n",
        "            76: 'Hi Wood Block',\n",
        "            77: 'Low Wood Block',\n",
        "            78: 'Mute Cuica',\n",
        "            79: 'Open Cuica',\n",
        "            80: 'Mute Triangle',\n",
        "            81: 'Open Triangle'\n",
        "            }\n",
        "\n",
        "    def plot(self, start_time=None, end_time=None):\n",
        "        mid = mido.MidiFile(self.in_path)\n",
        "        events = self._extract_events(mid)\n",
        "        filtered_events = self._filter_events_by_time(events, start_time, end_time)\n",
        "        self._plot_events(filtered_events)\n",
        "\n",
        "    def _extract_events(self, mid):\n",
        "        events = {}\n",
        "        drum_counter = 0\n",
        "        time = 0\n",
        "        tempo = mido.bpm2tempo(120)\n",
        "\n",
        "        for track in mid.tracks:\n",
        "            for msg in track:\n",
        "                time += mido.tick2second(msg.time, mid.ticks_per_beat, tempo)\n",
        "                new_tempo = self._extract_tempo(msg)\n",
        "                if new_tempo is not None:\n",
        "                    tempo = new_tempo\n",
        "                elif self._is_drum_part(msg):\n",
        "                    if msg.note not in events:\n",
        "                        events[msg.note] = {'name': self.drum_mapping[msg.note], 'id': drum_counter, 'times': []}\n",
        "                        drum_counter += 1\n",
        "                    events[msg.note]['times'].append(time)\n",
        "        return events\n",
        "\n",
        "    def _filter_events_by_time(self, events, start_time=None, end_time=None):\n",
        "        if start_time is None and end_time is None:\n",
        "            return events\n",
        "\n",
        "        filtered_events = {}\n",
        "        for drum_note, event in events.items():\n",
        "            filtered_times = []\n",
        "            for t in event['times']:\n",
        "                if (start_time is None or start_time <= t) and (end_time is None or t <= end_time):\n",
        "                    filtered_times.append(t)\n",
        "            if filtered_times:\n",
        "                filtered_events[drum_note] = {'name': event['name'], 'id': event['id'], 'times': filtered_times}\n",
        "        pprint.pprint(filtered_events, depth=2)\n",
        "        return filtered_events\n",
        "\n",
        "    def _plot_events(self, events):\n",
        "        plt.figure(figsize=(15, 5))\n",
        "        for drum_note, event in events.items():\n",
        "            plt.eventplot(event['times'], orientation='horizontal', linelengths=0.08, lineoffsets=event['id'])\n",
        "        plt.yticks([event['id'] for event in events.values()], [event['name'] for event in events.values()])\n",
        "        plt.xlabel('Time')\n",
        "        plt.ylabel('Drum elements')\n",
        "        plt.title('Drum elements over time')\n",
        "        plt.grid(True)\n",
        "        plt.show()\n",
        "\n",
        "    def _extract_tempo(self, message):\n",
        "        if message.type == 'set_tempo':\n",
        "            return message.tempo\n",
        "        return None\n",
        "\n",
        "    def _is_drum_part(self, message):\n",
        "        return message.type == 'note_on' and message.note in self.drum_mapping\n",
        "\n",
        "    #################\n",
        "\n",
        "    def _calculate_similarity(self, times):\n",
        "        intervals = np.diff(times)\n",
        "        avg_interval = np.mean(intervals)\n",
        "        std_deviation = np.std(intervals)\n",
        "        return avg_interval, std_deviation\n",
        "\n",
        "    def _detect_pattern_changes(self, events):\n",
        "        all_event_times = [time for event in events.values() for time in event['times']]\n",
        "        avg_interval, std_deviation = self._calculate_similarity(all_event_times)\n",
        "        pattern_changes = []\n",
        "\n",
        "        similarity_scores = []\n",
        "        for i in range(1, len(all_event_times) - 1):\n",
        "            prev_interval = all_event_times[i] - all_event_times[i - 1]\n",
        "            next_interval = all_event_times[i + 1] - all_event_times[i]\n",
        "            similarity_score = abs(prev_interval - avg_interval) + abs(next_interval - avg_interval)\n",
        "            similarity_scores.append(similarity_score)\n",
        "\n",
        "        threshold = std_deviation  # You can adjust the threshold as needed\n",
        "        for i, similarity_score in enumerate(similarity_scores):\n",
        "            if similarity_score > threshold:\n",
        "                pattern_changes.append(all_event_times[i])\n",
        "\n",
        "        return pattern_changes\n",
        "\n",
        "    def _plot_pattern_changes(self, events, pattern_changes):\n",
        "        plt.figure(figsize=(15, 5))\n",
        "        for drum_note, event in events.items():\n",
        "            plt.eventplot(event['times'], orientation='horizontal', linelengths=0.08, lineoffsets=event['id'])\n",
        "        plt.yticks([event['id'] for event in events.values()], [event['name'] for event in events.values()])\n",
        "        plt.xlabel('Time')\n",
        "        plt.ylabel('Drum elements')\n",
        "        plt.title('Drum elements over time')\n",
        "        plt.grid(True)\n",
        "\n",
        "        for change_time in pattern_changes:\n",
        "            plt.axvline(x=change_time, color='red', linestyle='--')\n",
        "\n",
        "        plt.show()\n",
        "\n",
        "    def plot_with_pattern_changes(self, start_time=None, end_time=None):\n",
        "        mid = mido.MidiFile(self.in_path)\n",
        "        events = self._extract_events(mid)\n",
        "        filtered_events = self._filter_events_by_time(events, start_time, end_time)\n",
        "        pattern_changes = self._detect_pattern_changes(filtered_events)\n",
        "        self._plot_pattern_changes(filtered_events, pattern_changes)"
      ],
      "metadata": {
        "id": "cy1oyD4zQ_4X"
      },
      "execution_count": 70,
      "outputs": []
    },
    {
      "cell_type": "code",
      "source": [
        "SONG_INPUT_PATH = '/content/drive/MyDrive/B4ウルフ/input/songs/'\n",
        "SONG_OUTPUT_PATH = '/content/drive/MyDrive/B4ウルフ/output/demucs/'\n",
        "\n",
        "DEMUCS_INPUT_PATH = '/content/drive/MyDrive/B4ウルフ/output/demucs/mdx_q/'\n",
        "RMS_OUTPUT_PATH = '/content/drive/MyDrive/B4ウルフ/output/rms/'\n",
        "\n",
        "MIDI_INPUT_PATH = '/content/drive/MyDrive/B4ウルフ/input/midi/'\n",
        "MIDI_OUTPUT_PATH = '/content/drive/MyDrive/B4ウルフ/output/drum_elements/'"
      ],
      "metadata": {
        "id": "Wb7GX2tNupU_"
      },
      "execution_count": 11,
      "outputs": []
    },
    {
      "cell_type": "code",
      "source": [
        "#音源分離\n",
        "\n",
        "in_path = SONG_INPUT_PATH + 'others/Nonchalant.mp3'\n",
        "out_path = SONG_OUTPUT_PATH\n",
        "\n",
        "separator = AudioSeparator(in_path, out_path)\n",
        "separator.separate()"
      ],
      "metadata": {
        "id": "Q0b0pSEsKoyW",
        "colab": {
          "base_uri": "https://localhost:8080/"
        },
        "outputId": "1ad5727a-d6df-4b3d-fc64-d36e0f2671c7"
      },
      "execution_count": 10,
      "outputs": [
        {
          "output_type": "stream",
          "name": "stdout",
          "text": [
            "Going to separate the files:\n",
            "/content/drive/MyDrive/B4ウルフ/input/songs/others/Nonchalant.mp3\n",
            "With command:  python3 -m demucs.separate -o /content/drive/MyDrive/B4ウルフ/output/demucs/ -n mdx_q --mp3 --mp3-bitrate=320\n"
          ]
        },
        {
          "output_type": "stream",
          "name": "stderr",
          "text": [
            "Downloading: \"https://dl.fbaipublicfiles.com/demucs/mdx_final/6b9c2ca1-3fd82607.th\" to /root/.cache/torch/hub/checkpoints/6b9c2ca1-3fd82607.th\n",
            "100%|██████████| 56.9M/56.9M [00:00<00:00, 60.4MB/s]\n",
            "Downloading: \"https://dl.fbaipublicfiles.com/demucs/mdx_final/b72baf4e-8778635e.th\" to /root/.cache/torch/hub/checkpoints/b72baf4e-8778635e.th\n",
            "100%|██████████| 42.3M/42.3M [00:00<00:00, 105MB/s]\n",
            "Downloading: \"https://dl.fbaipublicfiles.com/demucs/mdx_final/42e558d4-196e0e1b.th\" to /root/.cache/torch/hub/checkpoints/42e558d4-196e0e1b.th\n",
            "100%|██████████| 55.5M/55.5M [00:00<00:00, 74.8MB/s]\n",
            "Downloading: \"https://dl.fbaipublicfiles.com/demucs/mdx_final/305bc58f-18378783.th\" to /root/.cache/torch/hub/checkpoints/305bc58f-18378783.th\n",
            "100%|██████████| 44.7M/44.7M [00:00<00:00, 58.5MB/s]\n"
          ]
        },
        {
          "output_type": "stream",
          "name": "stdout",
          "text": [
            "Selected model is a bag of 4 models. You will see that many progress bars per track.\n",
            "Separated tracks will be stored in /content/drive/.shortcut-targets-by-id/1R0KTEldo5kVMbFaX-uW9-FEyBJ1O4KD9/B4ウルフ/output/demucs/mdx_q\n",
            "Separating track /content/drive/MyDrive/B4ウルフ/input/songs/others/Nonchalant.mp3\n"
          ]
        },
        {
          "output_type": "stream",
          "name": "stderr",
          "text": [
            "100%|████████████████████████████████████████████████████████████████████████| 198.0/198.0 [03:06<00:00,  1.06seconds/s]\n",
            "100%|████████████████████████████████████████████████████████████████████████| 198.0/198.0 [03:17<00:00,  1.00seconds/s]\n",
            "100%|████████████████████████████████████████████████████████████████████████| 198.0/198.0 [03:51<00:00,  1.17s/seconds]\n",
            "100%|████████████████████████████████████████████████████████████████████████| 198.0/198.0 [03:32<00:00,  1.07s/seconds]\n"
          ]
        }
      ]
    },
    {
      "cell_type": "code",
      "source": [
        "#音圧可視化\n",
        "\n",
        "in_path = SONG_INPUT_PATH + 'others/Nonchalant.mp3'\n",
        "demucs_in_path = DEMUCS_INPUT_PATH + 'Nonchalant'\n",
        "out_path = RMS_OUTPUT_PATH\n",
        "\n",
        "plotter = RMSVisualizer(in_path, demucs_in_path, out_path)\n",
        "plotter.plot()"
      ],
      "metadata": {
        "id": "30xZz7RiP68B",
        "colab": {
          "base_uri": "https://localhost:8080/",
          "height": 242
        },
        "outputId": "761e1e59-f037-4c1c-9f0e-cc49b75a3d8d"
      },
      "execution_count": 58,
      "outputs": [
        {
          "output_type": "error",
          "ename": "NameError",
          "evalue": "ignored",
          "traceback": [
            "\u001b[0;31m---------------------------------------------------------------------------\u001b[0m",
            "\u001b[0;31mNameError\u001b[0m                                 Traceback (most recent call last)",
            "\u001b[0;32m<ipython-input-58-329c1d2def83>\u001b[0m in \u001b[0;36m<cell line: 7>\u001b[0;34m()\u001b[0m\n\u001b[1;32m      5\u001b[0m \u001b[0mout_path\u001b[0m \u001b[0;34m=\u001b[0m \u001b[0mRMS_OUTPUT_PATH\u001b[0m\u001b[0;34m\u001b[0m\u001b[0;34m\u001b[0m\u001b[0m\n\u001b[1;32m      6\u001b[0m \u001b[0;34m\u001b[0m\u001b[0m\n\u001b[0;32m----> 7\u001b[0;31m \u001b[0mplotter\u001b[0m \u001b[0;34m=\u001b[0m \u001b[0mRMSVisualizer\u001b[0m\u001b[0;34m(\u001b[0m\u001b[0min_path\u001b[0m\u001b[0;34m,\u001b[0m \u001b[0mdemucs_in_path\u001b[0m\u001b[0;34m,\u001b[0m \u001b[0mout_path\u001b[0m\u001b[0;34m)\u001b[0m\u001b[0;34m\u001b[0m\u001b[0;34m\u001b[0m\u001b[0m\n\u001b[0m\u001b[1;32m      8\u001b[0m \u001b[0mplotter\u001b[0m\u001b[0;34m.\u001b[0m\u001b[0mplot\u001b[0m\u001b[0;34m(\u001b[0m\u001b[0;34m)\u001b[0m\u001b[0;34m\u001b[0m\u001b[0;34m\u001b[0m\u001b[0m\n",
            "\u001b[0;31mNameError\u001b[0m: name 'RMSVisualizer' is not defined"
          ]
        }
      ]
    },
    {
      "cell_type": "code",
      "source": [
        "#ドラム要素可視化\n",
        "\n",
        "in_path = MIDI_INPUT_PATH + 'Nonchalant.mid'\n",
        "out_path = MIDI_OUTPUT_PATH\n",
        "\n",
        "visualizer = DrumMidiVisualizer(in_path, out_path)\n",
        "visualizer.plot()\n",
        "visualizer.plot_with_pattern_changes()"
      ],
      "metadata": {
        "id": "ScWCoYs_RnU-",
        "colab": {
          "base_uri": "https://localhost:8080/",
          "height": 903
        },
        "outputId": "2aeabfa7-3537-4553-ada9-b0cea12afe35"
      },
      "execution_count": 71,
      "outputs": [
        {
          "output_type": "display_data",
          "data": {
            "text/plain": [
              "<Figure size 1500x500 with 1 Axes>"
            ],
            "image/png": "[encoded data removed]"
          },
          "metadata": {}
        },
        {
          "output_type": "display_data",
          "data": {
            "text/plain": [
              "<Figure size 1500x500 with 1 Axes>"
            ],
            "image/png": "[encoded data removed]"
          },
          "metadata": {}
        }
      ]
    }
  ]
}